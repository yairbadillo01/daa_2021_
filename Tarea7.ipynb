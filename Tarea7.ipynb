{
  "nbformat": 4,
  "nbformat_minor": 0,
  "metadata": {
    "colab": {
      "name": "Tarea7.ipynb",
      "provenance": [],
      "authorship_tag": "ABX9TyOZ8ATwvy+GxfALYWlZUWsy",
      "include_colab_link": true
    },
    "kernelspec": {
      "name": "python3",
      "display_name": "Python 3"
    }
  },
  "cells": [
    {
      "cell_type": "markdown",
      "metadata": {
        "id": "view-in-github",
        "colab_type": "text"
      },
      "source": [
        "<a href=\"https://colab.research.google.com/github/yairbadillo01/daa_2021_1/blob/master/Tarea7.ipynb\" target=\"_parent\"><img src=\"https://colab.research.google.com/assets/colab-badge.svg\" alt=\"Open In Colab\"/></a>"
      ]
    },
    {
      "cell_type": "code",
      "metadata": {
        "colab": {
          "base_uri": "https://localhost:8080/"
        },
        "id": "lurCmKyXDfrA",
        "outputId": "1ffea88e-92e9-4c48-bc3e-1afa701cfb43"
      },
      "source": [
        "def suma(x,i,s):\n",
        "    if i<len(x):\n",
        "        s=s+x[i]\n",
        "        suma(x,i+1,s)\n",
        "    if i==len(x)-1:\n",
        "        print(s)\n",
        "x=[5,10,15]\n",
        "suma(x,0,0)"
      ],
      "execution_count": 2,
      "outputs": [
        {
          "output_type": "stream",
          "text": [
            "30\n"
          ],
          "name": "stdout"
        }
      ]
    },
    {
      "cell_type": "code",
      "metadata": {
        "colab": {
          "base_uri": "https://localhost:8080/"
        },
        "id": "eKDqXyiTEJJ1",
        "outputId": "7ca95164-a1c5-4bff-e9b5-c0e1f6bcf5e8"
      },
      "source": [
        "def contador( i ):\n",
        "    if i > 0:\n",
        "        print(i)\n",
        "        contador(   i - 1)\n",
        "contador( 10 )"
      ],
      "execution_count": 4,
      "outputs": [
        {
          "output_type": "stream",
          "text": [
            "10\n",
            "9\n",
            "8\n",
            "7\n",
            "6\n",
            "5\n",
            "4\n",
            "3\n",
            "2\n",
            "1\n"
          ],
          "name": "stdout"
        }
      ]
    },
    {
      "cell_type": "code",
      "metadata": {
        "colab": {
          "base_uri": "https://localhost:8080/"
        },
        "id": "rZmcsfJdEOhJ",
        "outputId": "725209b2-d42c-4f43-eafb-ad6caa9cc82a"
      },
      "source": [
        "class Stack:\n",
        "  def __init__(self):\n",
        "    self.__datos=[]\n",
        "  def is_empty(self):\n",
        "    return len(self.__datos)==0\n",
        "  def get_top(self):\n",
        "    return self.__datos[-1]\n",
        "  def pop(self):\n",
        "    return self.__datos.pop()\n",
        "  def push(self,valor):\n",
        "    self.__datos.append(valor)\n",
        "  def get_length(self):\n",
        "    return len(self.__datos)\n",
        "  def to_string(self):\n",
        "    print(\"-------------------------\")\n",
        "    for i in self.__datos[-1::-1]:\n",
        "      print(i)\n",
        "    print(\"-------------------------\")\n",
        "    print()\n",
        "\n",
        "\n",
        "\n",
        "def medio(pila,m,x,i):\n",
        "    bandera=0\n",
        "    if m>i:\n",
        "        x=pila.pop()\n",
        "        i+=1\n",
        "        medio(pila,m,x,i)\n",
        "    if m==i:\n",
        "        pila.pop()\n",
        "    pila.push(x)\n",
        "\n",
        "pila=Stack()\n",
        "pila.push(0)\n",
        "pila.push(1)\n",
        "pila.push(2)\n",
        "pila.push(3)\n",
        "pila.push(4)\n",
        "pila.push(5)\n",
        "pila.push(6)\n",
        "pila.push(7)\n",
        "pila.push(8)\n",
        "pila.push(9)\n",
        "pila.push(10)\n",
        "pila.push(11)\n",
        "pila.push(12)\n",
        "pila.push(13)\n",
        "pila.push(14)\n",
        "pila.push(15)\n",
        "pila.push(16)\n",
        "pila.push(17)\n",
        "pila.push(18)\n",
        "pila.push(19)\n",
        "pila.push(20)\n",
        "m=pila.get_length()//2\n",
        "pila.to_string()\n",
        "medio(pila,m,0,0)\n",
        "pila.to_string()"
      ],
      "execution_count": 7,
      "outputs": [
        {
          "output_type": "stream",
          "text": [
            "-------------------------\n",
            "20\n",
            "19\n",
            "18\n",
            "17\n",
            "16\n",
            "15\n",
            "14\n",
            "13\n",
            "12\n",
            "11\n",
            "10\n",
            "9\n",
            "8\n",
            "7\n",
            "6\n",
            "5\n",
            "4\n",
            "3\n",
            "2\n",
            "1\n",
            "0\n",
            "-------------------------\n",
            "\n",
            "-------------------------\n",
            "20\n",
            "19\n",
            "18\n",
            "17\n",
            "16\n",
            "15\n",
            "14\n",
            "13\n",
            "12\n",
            "11\n",
            "9\n",
            "8\n",
            "7\n",
            "6\n",
            "5\n",
            "4\n",
            "3\n",
            "2\n",
            "1\n",
            "0\n",
            "-------------------------\n",
            "\n"
          ],
          "name": "stdout"
        }
      ]
    }
  ]
}