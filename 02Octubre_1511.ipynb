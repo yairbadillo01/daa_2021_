{
  "nbformat": 4,
  "nbformat_minor": 0,
  "metadata": {
    "colab": {
      "name": "02Octubre_1511.ipynb",
      "provenance": [],
      "authorship_tag": "ABX9TyM25JjcA2Fj7wUpQ2GiEpPF",
      "include_colab_link": true
    },
    "kernelspec": {
      "name": "python3",
      "display_name": "Python 3"
    }
  },
  "cells": [
    {
      "cell_type": "markdown",
      "metadata": {
        "id": "view-in-github",
        "colab_type": "text"
      },
      "source": [
        "<a href=\"https://colab.research.google.com/github/yairbadillo01/daa_2021_1/blob/master/02Octubre_1511.ipynb\" target=\"_parent\"><img src=\"https://colab.research.google.com/assets/colab-badge.svg\" alt=\"Open In Colab\"/></a>"
      ]
    },
    {
      "cell_type": "markdown",
      "metadata": {
        "id": "i5Pwf2mjiK50"
      },
      "source": [
        "## Meteorología en México\n",
        "En Sistema meteorológico nacional lleva el registro de la lluvias desde el año 1985 y lo pone a disposición de la población por medio de la pagina datos.gob.mx.\n",
        "\n",
        "En la siguiente liga se encuentran 2  archivos separados por comas CSV correspondientes a los registros de lluvias\n",
        "mensuales y anuales de los años 2017 y 2018. En los columnas se encuentran 13,  correspondientes al promedio mensual y el promedio anual.\n",
        "En los renglones se encuentran 33, correspondientes a cada uno de los 32 estados a nivel nacional\n",
        "\n",
        "## Planteamiento del problema\n",
        "Diseñar un algoritmo y programarlo para que:\n",
        "1. Solicite por teclado el año, el estado y el mes, en base a esa información:\n",
        "- muestre en pantalla el promedio de ese mes en ese estado en el año seleccionado.\n",
        "- muestre en pantalla el promedio anual del  estado seleccionado.\n",
        "2. Busque el mes que mas llovió en todos los estados durante esos dos años. Imprimir año, estado y mes.\n",
        "3. Busque el mes que menos llovió en los dos. Imprimir año, estado y mes."
      ]
    },
    {
      "cell_type": "code",
      "metadata": {
        "id": "Cj6I_Wcm1LYA"
      },
      "source": [
        "int main (){\n",
        "    float numerosLluvia[32][12] = {{0.4,2.1,6.7,.4,4.2,43.5,169.3,143.8,159.5,21.8,0.1,27.6,579.4},\n",
        "\t{53.6,44.9,1.4,0,7.9,0.2,2.9,7.1,9.6,0,1.4,2.8,131.7},\n",
        "\t{8.4,18.4,0.5,0.1,1.6,1.9,12.1,68.3,59,0.6,0.2,3.7,174.7},\n",
        "\t{16.1,6.9,9.1,65.1,49.7,363.6,169.2,202.8,229.8,221.7,33.4,40.1,1407.30},\n",
        "\t{2.6,11.1,15.1,23,40.6,22.6,37.8,45.1,108.3,15.2,1.9,35.6,358.5},\n",
        "\t{0,2.8,\t1.2\t,0,\t1.7,\t197.4,\t287.4,\t560.3,\t528,142.7,0.1,7.3,1728.80},\n",
        "\t{36.8,\t8.1,\t23.1,\t64,\t262.3,\t409.4,\t254.3,\t249.2,\t401.7,\t228.8,\t37.9,\t18.4,\t1994.00},\n",
        "\t{12.3,\t8.1,\t6.1,\t3.4,\t10.4,\t20.6,\t153.3,\t122.1,\t58.8,\t14.4,\t1.7,\t42.7,\t453.8},\n",
        "\t{0,\t0,\t18.1,\t12.9,\t48.9,\t86.2,\t101.7,\t101.3,\t86.8,\t31.4,\t0.6,\t0,\t488,},\n",
        "\t{1.3,\t7.8,\t13.3,\t1.4,\t4.7,\t12.5,\t121.7,\t139.3,\t97.3,\t34.1,\t0,\t21.2,\t454.6},\n",
        "\t{0.2,\t1.5,\t14.2,\t6,\t17.2,\t108.3,\t173.7,\t131.4,\t143.7,\t14.6,\t0.3,\t0.4,\t611.5},\n",
        "\t{0.2,\t0.2,\t2.1,\t3.2,\t90.2,\t223.9,\t162.6,\t230.4,\t369.4,\t71.7,\t6.7,\t0.4,1161.10},\n",
        "\t{3.1,\t5,\t20.7,\t16.5,\t51.2,\t69.2,\t95.1,\t88.9,\t182.1,\t109.6,\t4.9,6.9,\t653.2},\n",
        "\t{0.3,\t2.9,\t6.5,\t0.1,\t6.8,\t101.8,\t233.3,\t266.8,\t247.4,\t59.4,\t0.9,\t19.8,\t946.1},\n",
        "\t{0.1,\t1.1,\t17,\t14.3,\t86.6,\t119.7,\t174.5,\t209.5,\t186.3,\t53,\t3.3,\t0.1,\t865.4},\n",
        "\t{0.1,\t1,\t14.6,\t1.8,\t29.5,\t116.1,\t159.4,\t228.4,\t190.9,\t50.2,\t0.4,\t0.3,\t792.8},\n",
        "\t{0,\t0.1,\t14.7,\t13.5,\t174.9,\t386,\t320.4,\t517.2,\t441.1,\t81.7,0,0,1949.50},\n",
        "\t{0.5,\t11,\t1.5,\t0.1,\t1.1,\t62.6,\t279.1,\t346.5,\t392.7,\t102.4,\t0.3,\t30.6,\t1228.30},\n",
        "\t{10.2,\t7.4,\t50.6,\t45,\t60.7,\t45.6,\t31,\t40.6,\t172.1,\t64.9,\t7.8,\t34.2,\t570},\n",
        "\t{6.1,\t5.7,\t16.4,\t28,\t156.8,\t355.6,\t183,\t207,\t320,\t141.8,\t13.3,\t7,\t1440.80},\n",
        "\t{4.4,\t8,\t32.3,\t37.4,\t130.5,\t217,\t204.3,\t311.3,\t322.5,\t114.8,\t12,\t7.9,\t1402.30},\n",
        "\t{0.7,\t2,\t20.9,17.7,\t29.6,\t83.2,\t107.9,\t92.2,\t168,\t67.4,\t1.3,\t1.8, 592.7},\n",
        "\t{30.5,\t9.5,\t25.6,\t76.5,\t64.1,\t241,\t111,\t205.1,\t240,\t255.2,\t94,\t54.3,\t1406.80},\n",
        "\t{1.7,\t3.6, 28.1,\t25.2,\t40.9,\t62.5,\t118.1,\t96.3,\t145,\t85.8,\t1.4,\t9.1,\t617.7},\n",
        "\t{3.8,\t30.2,\t3.6,\t0.5,\t0.7,\t12.5,\t169.5,\t248.3,\t162.9,\t49,\t0.1,17.6,\t698.8},\n",
        "\t{41.6,\t31.3,\t0.5,\t0.5,\t4.8,\t12.5,\t182.9,\t93.9,\t39.4,\t4.3,\t2.5,\t36.7,\t450.6},\n",
        "\t{84.3,\t32.4,\t61.1,\t97.6,\t143.2,\t285.5,\t157.5,\t207.3,\t377.5,\t414,\t98.2,\t55.4,\t2013.80},\n",
        "\t{8.3,\t14.9,\t57.9,\t36.2,\t70.8,\t61.7,\t79,\t68.3,\t129.2,\t113.9,\t12.2,\t14.2,\t666.7},\n",
        "\t{0.4,\t0.4,\t19.4,\t21.2,\t79.9,\t98.5,\t146.6,\t167.4,\t123.6,\t30.3,\t2.4,\t0.2,\t690.3},\n",
        "\t{36.9,\t32.6,\t65.4,\t35.3,\t110,\t181.7,\t245.1,\t199.7,\t429,\t314.9,\t43.3,\t37.1,\t1731.00},\n",
        "\t{19.5,\t2.1,\t7.5,\t51.7,\t48.4,\t229.9,\t141.7,\t160.3,  228.1,\t154.8,\t37.9,\t38.7,\t1120.50},\n",
        "\t{0.4,\t1.3,\t18.8,\t2.6,\t10.7,\t30.7,\t134.1,\t113.5,\t111.3,\t16.3,\t0.3,\t27.2,\t467.2},\n",
        "\t{14.6,\t12.7,\t16.6,\t18.5,\t48.1, 102.7,\t140.9,\t145.9,\t169.8,\t77,\t10.7,\t24.4,\t781.6}}\n",
        "\t\n",
        "\tcout<<numerosLluvia;\n",
        "}"
      ],
      "execution_count": null,
      "outputs": []
    },
    {
      "cell_type": "code",
      "metadata": {
        "id": "bI1vB0pliIni"
      },
      "source": [
        ""
      ],
      "execution_count": null,
      "outputs": []
    }
  ]
}