{
  "nbformat": 4,
  "nbformat_minor": 0,
  "metadata": {
    "colab": {
      "name": "5Octubre.ipynb",
      "provenance": [],
      "authorship_tag": "ABX9TyNkrmklMSQy4bt9sSFuNQiA",
      "include_colab_link": true
    },
    "kernelspec": {
      "name": "python3",
      "display_name": "Python 3"
    }
  },
  "cells": [
    {
      "cell_type": "markdown",
      "metadata": {
        "id": "view-in-github",
        "colab_type": "text"
      },
      "source": [
        "<a href=\"https://colab.research.google.com/github/yairbadillo01/daa_2021_1/blob/master/5Octubre.ipynb\" target=\"_parent\"><img src=\"https://colab.research.google.com/assets/colab-badge.svg\" alt=\"Open In Colab\"/></a>"
      ]
    },
    {
      "cell_type": "markdown",
      "metadata": {
        "id": "nyhrwg67By5S"
      },
      "source": [
        "\n",
        "##\"Estructura de Datos\"\n",
        "-Last in first out (LIFO)\n",
        "-De tipo lineal\n",
        "-Se pueden obtener al ingresar datos\n",
        "-Push para agregar\n",
        "-Pop para sacar\n",
        "\n",
        "#Operaciones para las pilas\n",
        "1.- is_empty(regresa true o fale\n",
        "2.-get_top(Regresa un elemento)\n",
        "3.-poo(Saca el elemento del tope y lo regresa\n",
        "4.-push(Mete el elemento en el tope)\n",
        "5.-get_lenght(Regresa el elemento a la pila)\n"
      ]
    },
    {
      "cell_type": "code",
      "metadata": {
        "id": "PJl_tQsXC59E"
      },
      "source": [
        "class Stack:\n",
        "    def _init_ (self):\n",
        "      self._datos= []\n",
        "\n",
        "    def is empty (self):\n",
        "      return len(self._datos)==0\n",
        "\n",
        "    def get top (self):\n",
        "      return self._datos[-1]\n",
        "\n",
        "    def pop(self):\n",
        "      return self._ datos.pop()\n",
        "     \n",
        "     def push (self, valor):\n",
        "       self._datos.append(valor)\n",
        "    \n",
        "     def get_ lenght (self):\n",
        "       return len(self._datos)\n",
        "\n",
        "      def to_string (self):\n",
        "        print(\"|----------------------|\")\n",
        "        for ele   in self. datos [-1::-1]\n",
        "          print(f\"{ele}\")\n",
        "        print (\"|-------------------------|\")\n",
        "\n",
        "    \n",
        "\n",
        "    \n",
        "\n",
        "  "
      ],
      "execution_count": null,
      "outputs": []
    },
    {
      "cell_type": "code",
      "metadata": {
        "id": "ftCj3k0EFdWu"
      },
      "source": [
        "pila1 = Stack()\n",
        "pila1.push(10)\n",
        "pila1.push(20)\n",
        "pila1.push(1)\n",
        "pila1.push(393)\n",
        "pila1.push(103)\n",
        "pila1.push\n",
        "pila1.to_String()\n",
        "\n",
        "sacado=pila1.pop()\n",
        "print(sacado)\n",
        "pila1.to_string()\n",
        "\n",
        "pila1.push(444)\n",
        "pila1.push(233)\n",
        "pila1.to.String()\n",
        "\n",
        "print (f\"El elemento en el tope es: {pila1.get_top()}\")\n",
        "pila1.to_String ()\n",
        "print(f\"La pila tiene{ pila1.get_lenght()} elementos\")\n",
        "print(f\"¿La pila esta vacia?: {pila.is_empty()} \")\n",
        "\n",
        "\n"
      ],
      "execution_count": null,
      "outputs": []
    },
    {
      "cell_type": "code",
      "metadata": {
        "id": "MsDfMcapKTCD"
      },
      "source": [
        ""
      ],
      "execution_count": null,
      "outputs": []
    },
    {
      "cell_type": "markdown",
      "metadata": {
        "id": "b98jOn0mJG1y"
      },
      "source": [
        "#Ejemplo de aplicacion de filas\n",
        "\n",
        "x = 4 + 5 + 6 + 3\n",
        "x = 4 + 5 + 6) + 3\n",
        "x = 4 + (5 + 6) + 3\n",
        "x = (4 + (5 + 6 ) + 3)\n",
        "\n",
        "if(a==b){ System.out.println(b)\n",
        "if(a==b){ System.out.println(b)\n",
        "\n",
        "#Reglas\n",
        "### '(' ---> push('@')\n",
        "### ')' ---> pop()\n",
        "si al final del recorrido la pila esta vacia, entonces la cadena es correcta.\n",
        "Si en un pop desencadena en en querer sacar un elemento de la pila vacia significa que la cadena no esta balanceada.\n",
        "\n",
        "\n"
      ]
    },
    {
      "cell_type": "markdown",
      "metadata": {
        "id": "8knhipGQEJjL"
      },
      "source": [
        ""
      ]
    }
  ]
}