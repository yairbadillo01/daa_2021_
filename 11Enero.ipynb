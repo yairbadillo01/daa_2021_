{
  "nbformat": 4,
  "nbformat_minor": 0,
  "metadata": {
    "colab": {
      "name": "11Enero.ipynb",
      "provenance": [],
      "authorship_tag": "ABX9TyPnE/aCy3f1S7g9/yIKT649",
      "include_colab_link": true
    },
    "kernelspec": {
      "name": "python3",
      "display_name": "Python 3"
    }
  },
  "cells": [
    {
      "cell_type": "markdown",
      "metadata": {
        "id": "view-in-github",
        "colab_type": "text"
      },
      "source": [
        "<a href=\"https://colab.research.google.com/github/yairbadillo01/daa_2021_1/blob/master/11Enero.ipynb\" target=\"_parent\"><img src=\"https://colab.research.google.com/assets/colab-badge.svg\" alt=\"Open In Colab\"/></a>"
      ]
    },
    {
      "cell_type": "code",
      "metadata": {
        "id": "3bXHrhaC782w"
      },
      "source": [
        "class NodoArbol:\r\n",
        "  def __init__(self, value, left=None, rigth= None):\r\n",
        "    self.data = value \r\n",
        "    self.left = left\r\n",
        "    self.rigth = rigth\r\n",
        "  \r\n",
        "    \r\n"
      ],
      "execution_count": 4,
      "outputs": []
    },
    {
      "cell_type": "code",
      "metadata": {
        "id": "8Ijjcjlk8-Ey"
      },
      "source": [
        "arbol= NodoArbol(\"R\", NodoArbol(\"C\"),NodoArbol(\"H\"))"
      ],
      "execution_count": 6,
      "outputs": []
    },
    {
      "cell_type": "code",
      "metadata": {
        "id": "JeeGuxY69wOs"
      },
      "source": [
        "nodo1 = NodoArbol(\"C\")\r\n",
        "nodo2 = NodoArbol(\"H\")\r\n",
        "arbol_v2 = NodoArbol(\"R\",nodo1,nodo2)\r\n"
      ],
      "execution_count": 7,
      "outputs": []
    },
    {
      "cell_type": "code",
      "metadata": {
        "colab": {
          "base_uri": "https://localhost:8080/"
        },
        "id": "aEyPBHqM-N1W",
        "outputId": "0cba9a12-ac89-4032-b6d9-5325dfa0706c"
      },
      "source": [
        "print(arbol.rigth.data)\r\n",
        "print(arbol_v2.rigth.data)"
      ],
      "execution_count": 9,
      "outputs": [
        {
          "output_type": "stream",
          "text": [
            "H\n",
            "H\n"
          ],
          "name": "stdout"
        }
      ]
    },
    {
      "cell_type": "code",
      "metadata": {
        "id": "kuAoZHGt-4h5"
      },
      "source": [
        "arbol2=Nodoarbol(4,NodoArbol(3,NodoArbol(2,NodoArbol(2))), NodoArbol(5,None,None))\r\n",
        "print(arbol2.left.left.left.data)"
      ],
      "execution_count": null,
      "outputs": []
    },
    {
      "cell_type": "code",
      "metadata": {
        "id": "aUMQsJorCKiv"
      },
      "source": [
        "aux = arbol2\r\n",
        "while aux.left != None:\r\n",
        "  aux=aux.left\r\n",
        "\r\n",
        "print (aux.data)"
      ],
      "execution_count": null,
      "outputs": []
    },
    {
      "cell_type": "code",
      "metadata": {
        "id": "Rzy1y1JBEsGc"
      },
      "source": [
        "arbol3 = NodoArbol(\"Santi\", None,NodoArbol(\"Jesus\",NodoArbol(\"Pedro\",None,NodoArbol(\"Diana\")),None))"
      ],
      "execution_count": null,
      "outputs": []
    },
    {
      "cell_type": "code",
      "metadata": {
        "id": "24LDVNxCKCQB"
      },
      "source": [
        ""
      ],
      "execution_count": null,
      "outputs": []
    }
  ]
}