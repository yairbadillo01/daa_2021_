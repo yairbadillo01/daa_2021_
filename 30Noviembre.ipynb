{
  "nbformat": 4,
  "nbformat_minor": 0,
  "metadata": {
    "colab": {
      "name": "30Noviembre.ipynb",
      "provenance": [],
      "authorship_tag": "ABX9TyO+b3rMicZKj8Tx6zmMbggo",
      "include_colab_link": true
    },
    "kernelspec": {
      "name": "python3",
      "display_name": "Python 3"
    }
  },
  "cells": [
    {
      "cell_type": "markdown",
      "metadata": {
        "id": "view-in-github",
        "colab_type": "text"
      },
      "source": [
        "<a href=\"https://colab.research.google.com/github/yairbadillo01/daa_2021_1/blob/master/30Noviembre.ipynb\" target=\"_parent\"><img src=\"https://colab.research.google.com/assets/colab-badge.svg\" alt=\"Open In Colab\"/></a>"
      ]
    },
    {
      "cell_type": "code",
      "metadata": {
        "id": "4Nx8q37dpNk9"
      },
      "source": [
        "A = \"AELASESLALSALSALSALSALSALASLSLSLSLSALALALALASALSALLSALAS\"\n",
        "P = \"LAS\"\n",
        "N = len (A)\n",
        "N = len (P)\n",
        "\n",
        "def fuerza_bruta(A, P):\n",
        "  for i in range (N-M+1):\n",
        "    for i in range(M):\n",
        "      if A[1+j] != P[j]:\n",
        "        break\n",
        "      else:\n",
        "        pass\n",
        "    if j+i == and A [i+j] == P[j]:\n",
        "      print(\"Encontrado en la posicion:\", i)\n",
        "    \n",
        "fuerza_bruta\n",
        "      "
      ],
      "execution_count": null,
      "outputs": []
    }
  ]
}