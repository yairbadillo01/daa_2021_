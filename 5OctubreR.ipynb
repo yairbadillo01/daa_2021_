{
  "nbformat": 4,
  "nbformat_minor": 0,
  "metadata": {
    "colab": {
      "name": "5Octubre.ipynb",
      "provenance": [],
      "authorship_tag": "ABX9TyOp8C8wN0DTNx1EIeqU3Scn",
      "include_colab_link": true
    },
    "kernelspec": {
      "name": "python3",
      "display_name": "Python 3"
    }
  },
  "cells": [
    {
      "cell_type": "markdown",
      "metadata": {
        "id": "view-in-github",
        "colab_type": "text"
      },
      "source": [
        "<a href=\"https://colab.research.google.com/github/yairbadillo01/daa_2021_1/blob/master/5OctubreR.ipynb\" target=\"_parent\"><img src=\"https://colab.research.google.com/assets/colab-badge.svg\" alt=\"Open In Colab\"/></a>"
      ]
    },
    {
      "cell_type": "markdown",
      "metadata": {
        "id": "izNdz94Rr-CV"
      },
      "source": [
        "\n",
        "##\"Estructura de Datos\"\n",
        "\n",
        "\n",
        "1.   -Last in first out (LIFO)\n",
        "2.   -De tipo lineal\n",
        "3.   -Se pueden obtener al ingresar datos\n",
        "4.   -Push para agregar\n",
        "5.   -Pop para sacar\n",
        "\n",
        "\n",
        "#Operaciones para las pilas\n",
        "1.   is_empty(regresa true o fale\n",
        "2.   get_top(Regresa un elemento)\n",
        "3.   poo(Saca el elemento del tope y lo regresa\n",
        "4.   push(Mete el elemento en el tope)\n",
        "5.   get_lenght(Regresa el elemento a la pila)\n",
        "\n"
      ]
    },
    {
      "cell_type": "code",
      "metadata": {
        "id": "zy7j1Ablr8I-"
      },
      "source": [
        "class Stack:\n",
        "  def __init__(self):\n",
        "    self.__datos = []\n",
        "\n",
        "  def is_empty(self):\n",
        "    return len(self.__datos) == 0\n",
        "  \n",
        "  def get_top(self):\n",
        "    return self.__datos[1]\n",
        "\n",
        "  def pop(self):\n",
        "    return self.__datos.pop()\n",
        "\n",
        "  def push(self,valor):\n",
        "    return self.__datos.append(valor)\n",
        "\n",
        "  def get_length(self):\n",
        "    return len(self.__datos)\n",
        "\n",
        "  def to_string(self):\n",
        "    print(\"|----------|\")\n",
        "    for ele in self.__datos[-1::-1]:\n",
        "      print(f\"{ele}\")\n",
        "    print(\"|----------|\")\n"
      ],
      "execution_count": 19,
      "outputs": []
    },
    {
      "cell_type": "code",
      "metadata": {
        "id": "0Ray_V_Gs_Hv",
        "outputId": "a1105311-d5c5-47cb-ceb0-50abbeea620d",
        "colab": {
          "base_uri": "https://localhost:8080/"
        }
      },
      "source": [
        "pila1 = Stack()\n",
        "pila1.push(10)\n",
        "pila1.push(20)\n",
        "pila1.push(1)\n",
        "pila1.push(393)\n",
        "pila1.push(103)\n",
        "pila1.to_string()\n",
        "\n",
        "sacado = pila1.pop()\n",
        "print(sacado)\n",
        "pila1.to_string()\n",
        "\n",
        "pila1.push(444)\n",
        "pila1.push(233)\n",
        "pila1.to_string()\n",
        "\n",
        "print(f\"El elemento en el tope es:{pila1.get_top()}\")\n",
        "pila1.to_string()\n",
        "print(f\"La pila tiene {pila1.get_length()} elementos\")\n",
        "print(f\"¿La pila está vacía?: {pila1.is_empty()}\")"
      ],
      "execution_count": 20,
      "outputs": [
        {
          "output_type": "stream",
          "text": [
            "|----------|\n",
            "103\n",
            "393\n",
            "1\n",
            "20\n",
            "10\n",
            "|----------|\n",
            "103\n",
            "|----------|\n",
            "393\n",
            "1\n",
            "20\n",
            "10\n",
            "|----------|\n",
            "|----------|\n",
            "233\n",
            "444\n",
            "393\n",
            "1\n",
            "20\n",
            "10\n",
            "|----------|\n",
            "El elemento en el tope es:20\n",
            "|----------|\n",
            "233\n",
            "444\n",
            "393\n",
            "1\n",
            "20\n",
            "10\n",
            "|----------|\n",
            "La pila tiene 6 elementos\n",
            "¿La pila está vacía?: False\n"
          ],
          "name": "stdout"
        }
      ]
    },
    {
      "cell_type": "markdown",
      "metadata": {
        "id": "HcbeBJwlwia4"
      },
      "source": [
        "#Ejemplo de aplicacion de filas\n",
        "\n",
        "1.  x = 4 + 5 + 6 + 3\n",
        "2.  x = 4 + 5 + 6) + 3\n",
        "3.  x = 4 + (5 + 6) + 3\n",
        "4.  x = (4 + (5 + 6 ) + 3)\n",
        "\n",
        "if(a==b){ System.out.println(b)\n",
        "\n",
        "if(a==b){ System.out.println(b)\n",
        "\n",
        "#Reglas\n",
        "### '(' ---> push('@')\n",
        "### ')' ---> pop()\n",
        "Si al final del recorrido la pila esta vacia, entonces la cadena es correcta.\n",
        "\n",
        "Si en un pop desencadena en en querer sacar un elemento de la pila vacia significa que la cadena no esta balanceada.\n"
      ]
    }
  ]
}