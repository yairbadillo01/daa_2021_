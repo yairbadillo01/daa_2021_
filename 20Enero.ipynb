{
  "nbformat": 4,
  "nbformat_minor": 0,
  "metadata": {
    "colab": {
      "name": "20Enero.ipynb",
      "provenance": [],
      "authorship_tag": "ABX9TyMXqmuQa44sHvnOayIntDBi",
      "include_colab_link": true
    },
    "kernelspec": {
      "name": "python3",
      "display_name": "Python 3"
    }
  },
  "cells": [
    {
      "cell_type": "markdown",
      "metadata": {
        "id": "view-in-github",
        "colab_type": "text"
      },
      "source": [
        "<a href=\"https://colab.research.google.com/github/yairbadillo01/daa_2021_1/blob/master/20Enero.ipynb\" target=\"_parent\"><img src=\"https://colab.research.google.com/assets/colab-badge.svg\" alt=\"Open In Colab\"/></a>"
      ]
    },
    {
      "cell_type": "code",
      "metadata": {
        "id": "ovC6aMCrkOue"
      },
      "source": [
        "class NodoArbol:\r\n",
        "  def __init__(self,value,left=None,rigth=None):\r\n",
        "    self.data=value\r\n",
        "    self.left=left\r\n",
        "    self.rigth=rigth"
      ],
      "execution_count": null,
      "outputs": []
    },
    {
      "cell_type": "markdown",
      "metadata": {
        "id": "tPtNNWpkkRJV"
      },
      "source": [
        "\r\n",
        "ARBOL BINARIO DE BUSQUEDA\r\n",
        "Los nodos a la izq son menores y los nodos a la derecha son mayores a la raiz puede ser recorridos en:pre-orden,in-oden y post-orden"
      ]
    },
    {
      "cell_type": "code",
      "metadata": {
        "id": "1cb8OeUVkcl8"
      },
      "source": [
        "class BinarySearchTree:\r\n",
        "  def __init__(self):\r\n",
        "    self.__root=None\r\n",
        "\r\n",
        "  def insert(self,value):\r\n",
        "    if self.__root==None:\r\n",
        "      self.__root=NodoArbol(value,None,None)\r\n",
        "    else:\r\n",
        "      #preguntar si value es menor que root,de ser el caso\r\n",
        "      #insertar a la izq, pero... puede ser el caso que el \r\n",
        "      #sub arbol izq ya tenga muchos elementos \r\n",
        "      self.__insert_nodo__( self.__root,value)\r\n",
        "\r\n",
        "  def __insert_nodo__(self,nodo,value):\r\n",
        "    if nodo.data==value:\r\n",
        "      pass\r\n",
        "    elif value < nodo.data:   #si es true va a la izq\r\n",
        "      if nodo.left==None:   #si hay espacio en la izq, ahi va \r\n",
        "        nodo.left=NodoArbol(value,None, None)  #insertamos el nodo \r\n",
        "      else:\r\n",
        "        self.__insert_nodo__(nodo.left,value)  #buscar su pocision en sub arbol izq\r\n",
        "\r\n",
        "    else:# Ir a la derecha \r\n",
        "      if nodo.right==None:\r\n",
        "        nodo.right=NodoArbol(value,None,None)\r\n",
        "\r\n",
        "      else:\r\n",
        "        self.__insert_nodo__(nodo.rigth,value)  #buscar en el arbol der \r\n",
        "\r\n",
        "  def buscar(self,value):\r\n",
        "    if self.__root==None:\r\n",
        "      return None\r\n",
        "       else:\r\n",
        "      # haremos busqueda recursiva\r\n",
        "      return self.__busca_nodo(self.__root,value)\r\n",
        "\r\n",
        "  def __busca_nodo(self,nodo, value):\r\n",
        "    if nodo==None:\r\n",
        "      return None #si no se encuentra regresameos none\r\n",
        "    elif nodo.data== value: # si lo encontramos regresamos el valor \r\n",
        "      return nodo.data\r\n",
        "    elif value< nodo.data:\r\n",
        "      return self.__busca_nodo(nodo.left,value)\r\n",
        "    else:\r\n",
        "      return self.__busca_nodo(nodo.rigth,value)\r\n",
        "\r\n",
        "  def transversal(self,format=\"inorden\"):\r\n",
        "    if format=='inorden':\r\n",
        "      self.__recorrido_in(self.__root)\r\n",
        "    elif format==\"preorden\":\r\n",
        "      self.__recorrido_pre(self.__root)\r\n",
        "    elif format==\"posorden\":\r\n",
        "      self.__recorrido_pos(self.__root)\r\n",
        "    else:\r\n",
        "      print(\"formato de recorrido no valido\")\r\n",
        "\r\n",
        "  def __recorrido_pre(self,nodo):\r\n",
        "    if nodo!= None:\r\n",
        "      print(nodo.data, end=\",\")\r\n",
        "      self.__recorrido_pre(nodo.left)\r\n",
        "      self.__recorrido_pre(nodo.rigth)\r\n",
        "\r\n",
        "  def __recorrido_in(self,nodo):\r\n",
        "    if nodo!=None:\r\n",
        "      self.__recorrido_in(nodo.left)\r\n",
        "      print(nodo.data,end=\",\")\r\n",
        "      self.__recorrido_in(nodo.rigth)\r\n",
        "  def __recorrido_pos(self,nodo):\r\n",
        "    if nodo!=None:\r\n",
        "      self.__recorrido_pos(nodo.left)\r\n",
        "      self.__recorrido_pos(nodo.rigth)\r\n",
        "      print(nodo.data,end=\",\")"
      ],
      "execution_count": null,
      "outputs": []
    },
    {
      "cell_type": "code",
      "metadata": {
        "id": "lLUimmYxks8m"
      },
      "source": [
        "bst=BinarySearchTree()\r\n",
        "bst.insert(50)\r\n",
        "bst.insert(30)\r\n",
        "bst.insert(20)\r\n",
        "res=bst.buscar(30)# true o false?\r\n",
        "print(\"dato:\", str(res))\r\n",
        "print(bst.buscar(40))\r\n",
        "bst.transversal(\"preorden\")\r\n",
        "print(\" \")\r\n",
        "bst.transversal(\"inorden\")\r\n",
        "print(\" \")\r\n",
        "bst.transversal(\"posorden\")"
      ],
      "execution_count": null,
      "outputs": []
    }
  ]
}