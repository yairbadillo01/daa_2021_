{
  "nbformat": 4,
  "nbformat_minor": 0,
  "metadata": {
    "colab": {
      "name": "Tarea8.ipynb",
      "provenance": [],
      "authorship_tag": "ABX9TyMENxXBchKNfXqQd4ldBexr",
      "include_colab_link": true
    },
    "kernelspec": {
      "name": "python3",
      "display_name": "Python 3"
    }
  },
  "cells": [
    {
      "cell_type": "markdown",
      "metadata": {
        "id": "view-in-github",
        "colab_type": "text"
      },
      "source": [
        "<a href=\"https://colab.research.google.com/github/yairbadillo01/daa_2021_1/blob/master/Tarea8.ipynb\" target=\"_parent\"><img src=\"https://colab.research.google.com/assets/colab-badge.svg\" alt=\"Open In Colab\"/></a>"
      ]
    },
    {
      "cell_type": "code",
      "metadata": {
        "colab": {
          "base_uri": "https://localhost:8080/"
        },
        "id": "GftOmzm6km9P",
        "outputId": "608c8bfe-2b72-4a1d-99af-afb8a694d41a"
      },
      "source": [
        "alumno1={'id':2, 'nombre':\"Juanito\" , 'carrera':\"ICO\", 'promedio':7.67}\r\n",
        "alumno2={'id':4, 'nombre':\"Kymberly\" , 'carrera':\"ICI\", 'promedio':8.67}\r\n",
        "alumno3={'id':5, 'nombre':\"Brayan\" , 'carrera':\"DER\", 'promedio':8.98}\r\n",
        "alumno4={'id':7, 'nombre':\"Kevin\" , 'carrera':\"ICI\", 'promedio':9.87}\r\n",
        "alumno5={'id':9, 'nombre':\"Maicol\" , 'carrera':\"IME\", 'promedio':10.00}\r\n",
        "alumno6={'id':10, 'nombre':\"Brandon\" , 'carrera':\"ICO\", 'promedio':5.37}\r\n",
        "alumno7={'id':14, 'nombre':\"Sofia\" , 'carrera':\"IME\", 'promedio':6.85}\r\n",
        "alumno8={'id':16, 'nombre':\"Ari\" , 'carrera':\"DER\", 'promedio':9.99}\r\n",
        "alumno9={'id':19, 'nombre':\"Kailan\" , 'carrera':\"ICO\", 'promedio':8.22}\r\n",
        "alumno10={'id':22, 'nombre':\"Bruno\" , 'carrera':\"ICO\", 'promedio':7.32}\r\n",
        "\r\n",
        "bd = []\r\n",
        "bd.append(alumno1)\r\n",
        "bd.append(alumno2)\r\n",
        "bd.append(alumno3)\r\n",
        "bd.append(alumno4)\r\n",
        "bd.append(alumno5)\r\n",
        "bd.append(alumno6)\r\n",
        "bd.append(alumno7)\r\n",
        "bd.append(alumno8)\r\n",
        "bd.append(alumno9)\r\n",
        "bd.append(alumno10)\r\n",
        "\r\n",
        "\r\n",
        "\r\n",
        "\r\n",
        "def busrecur(bd,key,i,iz,de):\r\n",
        "    medio=(iz+de)//2\r\n",
        "    if i>=len(bd):\r\n",
        "      print(\"el alumno no exite\")\r\n",
        "      return 0\r\n",
        "    if bd[medio][\"id\"] == key:\r\n",
        "      print(bd[medio][\"nombre\"],\"estudia la carrera\",bd[medio][\"carrera\"],\"y tiene un promedio de\",bd[medio][\"promedio\"])\r\n",
        "      return 0\r\n",
        "      i=i+1\r\n",
        "    if key > bd[medio][\"id\"]:\r\n",
        "      busrecur(bd,key,i,medio,de)\r\n",
        "    if key < bd[medio][\"id\"]:\r\n",
        "      busrecur(bd,key,i,iz,medio)\r\n",
        "#print(bd)\r\n",
        "\r\n",
        "\r\n",
        "\r\n",
        "key=int(input(\"¿Dame el id del alumno a buscar?: \"))\r\n",
        "busrecur(bd,key,0,0,len(bd))"
      ],
      "execution_count": 2,
      "outputs": [
        {
          "output_type": "stream",
          "text": [
            "¿Dame el id del alumno a buscar?: 2\n",
            "Juanito estudia la carrera ICO y tiene un promedio de 7.67\n"
          ],
          "name": "stdout"
        }
      ]
    }
  ]
}