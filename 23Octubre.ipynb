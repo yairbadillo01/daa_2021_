{
  "nbformat": 4,
  "nbformat_minor": 0,
  "metadata": {
    "colab": {
      "name": "23Octubre.ipynb",
      "provenance": [],
      "authorship_tag": "ABX9TyP6+dzjh/eX4iArnOICwBte",
      "include_colab_link": true
    },
    "kernelspec": {
      "name": "python3",
      "display_name": "Python 3"
    }
  },
  "cells": [
    {
      "cell_type": "markdown",
      "metadata": {
        "id": "view-in-github",
        "colab_type": "text"
      },
      "source": [
        "<a href=\"https://colab.research.google.com/github/yairbadillo01/daa_2021_1/blob/master/23Octubre.ipynb\" target=\"_parent\"><img src=\"https://colab.research.google.com/assets/colab-badge.svg\" alt=\"Open In Colab\"/></a>"
      ]
    },
    {
      "cell_type": "code",
      "metadata": {
        "id": "rY6WgBG1f92C",
        "outputId": "33ddfa7c-5bcf-49b2-ccda-8c6a471fe2ac",
        "colab": {
          "base_uri": "https://localhost:8080/",
          "height": 357
        }
      },
      "source": [
        "from time import time\n",
        "def ejemplo1( n ):\n",
        "    start_time = time()\n",
        "\n",
        "    c = n + 1\n",
        "    d = c * n\n",
        "    e = n * n\n",
        "    total = c + e - d\n",
        "    print(f\"total={ total }\")\n",
        "    elapsed_time = time() - start_time\n",
        "    print(\"Tiempo transcurrido: %0.10f segundos.\" % elapsed_time)\n",
        "for entrada in range (100,1100,100):\n",
        "  ejemplo1( entrada )"
      ],
      "execution_count": null,
      "outputs": [
        {
          "output_type": "stream",
          "text": [
            "total=1\n",
            "Tiempo transcurrido: 0.0000643730 segundos.\n",
            "total=1\n",
            "Tiempo transcurrido: 0.0000305176 segundos.\n",
            "total=1\n",
            "Tiempo transcurrido: 0.0000309944 segundos.\n",
            "total=1\n",
            "Tiempo transcurrido: 0.0000185966 segundos.\n",
            "total=1\n",
            "Tiempo transcurrido: 0.0000133514 segundos.\n",
            "total=1\n",
            "Tiempo transcurrido: 0.0000135899 segundos.\n",
            "total=1\n",
            "Tiempo transcurrido: 0.0000135899 segundos.\n",
            "total=1\n",
            "Tiempo transcurrido: 0.0000123978 segundos.\n",
            "total=1\n",
            "Tiempo transcurrido: 0.0000128746 segundos.\n",
            "total=1\n",
            "Tiempo transcurrido: 0.0000135899 segundos.\n"
          ],
          "name": "stdout"
        }
      ]
    },
    {
      "cell_type": "code",
      "metadata": {
        "id": "6qBqXlClgPi8",
        "outputId": "170471fd-e2a4-482b-8016-9c107ec17d0d",
        "colab": {
          "base_uri": "https://localhost:8080/",
          "height": 187
        }
      },
      "source": [
        "from time import time\n",
        "def ejemplo2( n ):\n",
        "    start_time = time()\n",
        "    contador = 0\n",
        "    for i in range( n ) :\n",
        "        for j in range( n ) :\n",
        "            contador += 1\n",
        "    elapsed_time = time() - start_time\n",
        "    print(\"Tiempo transcurrido: %0.10f segundos.\" % elapsed_time)        \n",
        "    return contador\n",
        "for entrada in range (100,1100,100):\n",
        "  ejemplo2( entrada )"
      ],
      "execution_count": null,
      "outputs": [
        {
          "output_type": "stream",
          "text": [
            "Tiempo transcurrido: 0.0010063648 segundos.\n",
            "Tiempo transcurrido: 0.0020542145 segundos.\n",
            "Tiempo transcurrido: 0.0063076019 segundos.\n",
            "Tiempo transcurrido: 0.0082397461 segundos.\n",
            "Tiempo transcurrido: 0.0131466389 segundos.\n",
            "Tiempo transcurrido: 0.0193054676 segundos.\n",
            "Tiempo transcurrido: 0.0261421204 segundos.\n",
            "Tiempo transcurrido: 0.0335955620 segundos.\n",
            "Tiempo transcurrido: 0.0436525345 segundos.\n",
            "Tiempo transcurrido: 0.0586647987 segundos.\n"
          ],
          "name": "stdout"
        }
      ]
    },
    {
      "cell_type": "code",
      "metadata": {
        "id": "EPBRFwyZgSnR",
        "outputId": "70698e5e-3bd4-4deb-defa-b46bf79070d5",
        "colab": {
          "base_uri": "https://localhost:8080/",
          "height": 187
        }
      },
      "source": [
        "from time import time\n",
        "def ejemplo3 (n):\n",
        "  start_time = time()\n",
        "  x= n* 2\n",
        "  y = 0\n",
        "  for m in range (100):\n",
        "    y = x -n \n",
        "  elapsed_time = time() - start_time\n",
        "  print(\"Tiempo transcurrido: %0.10f segundos.\" % elapsed_time)\n",
        "  return y\n",
        "  \n",
        "for entrada in range (100,1100,100):\n",
        "  ejemplo3( entrada )"
      ],
      "execution_count": null,
      "outputs": [
        {
          "output_type": "stream",
          "text": [
            "Tiempo transcurrido: 0.0000042915 segundos.\n",
            "Tiempo transcurrido: 0.0000064373 segundos.\n",
            "Tiempo transcurrido: 0.0000076294 segundos.\n",
            "Tiempo transcurrido: 0.0000078678 segundos.\n",
            "Tiempo transcurrido: 0.0000088215 segundos.\n",
            "Tiempo transcurrido: 0.0000092983 segundos.\n",
            "Tiempo transcurrido: 0.0000078678 segundos.\n",
            "Tiempo transcurrido: 0.0000071526 segundos.\n",
            "Tiempo transcurrido: 0.0000095367 segundos.\n",
            "Tiempo transcurrido: 0.0000095367 segundos.\n"
          ],
          "name": "stdout"
        }
      ]
    },
    {
      "cell_type": "code",
      "metadata": {
        "id": "RHmw0HCOgZ_p",
        "outputId": "d2d2c73c-1e78-4990-85d2-36d20fcc9502",
        "colab": {
          "base_uri": "https://localhost:8080/",
          "height": 187
        }
      },
      "source": [
        "from time import time\n",
        "def ejemplo4( n ):\n",
        "    start_time = time()\n",
        "    x = 3 * 3.1416 + n\n",
        "    y = x + 3 * 3 - n\n",
        "    z = x + y\n",
        "    elapsed_time = time() - start_time\n",
        "    print(\"Tiempo transcurrido: %0.10f segundos.\" % elapsed_time)\n",
        "    return z\n",
        "for entrada in range (100,1100,100):\n",
        "  ejemplo4( entrada )"
      ],
      "execution_count": null,
      "outputs": [
        {
          "output_type": "stream",
          "text": [
            "Tiempo transcurrido: 0.0000009537 segundos.\n",
            "Tiempo transcurrido: 0.0000009537 segundos.\n",
            "Tiempo transcurrido: 0.0000004768 segundos.\n",
            "Tiempo transcurrido: 0.0000004768 segundos.\n",
            "Tiempo transcurrido: 0.0000004768 segundos.\n",
            "Tiempo transcurrido: 0.0000007153 segundos.\n",
            "Tiempo transcurrido: 0.0000009537 segundos.\n",
            "Tiempo transcurrido: 0.0000004768 segundos.\n",
            "Tiempo transcurrido: 0.0000014305 segundos.\n",
            "Tiempo transcurrido: 0.0000011921 segundos.\n"
          ],
          "name": "stdout"
        }
      ]
    },
    {
      "cell_type": "code",
      "metadata": {
        "id": "kZii3LcSgbwq",
        "outputId": "65597013-e5a6-4fc9-9553-6331988dcec1",
        "colab": {
          "base_uri": "https://localhost:8080/",
          "height": 187
        }
      },
      "source": [
        "from time import time\n",
        "def ejemplo5( x ):\n",
        "    start_time = time()\n",
        "\n",
        "    n = 10\n",
        "    for j in range( 0 , x , 1 ):\n",
        "        n = j + n\n",
        "    elapsed_time = time() - start_time\n",
        "    print(\"Tiempo transcurrido: %0.10f segundos.\" % elapsed_time)\n",
        "    return n\n",
        "for entrada in range (100,1100,100):\n",
        "  ejemplo5( entrada )"
      ],
      "execution_count": null,
      "outputs": [
        {
          "output_type": "stream",
          "text": [
            "Tiempo transcurrido: 0.0000059605 segundos.\n",
            "Tiempo transcurrido: 0.0000176430 segundos.\n",
            "Tiempo transcurrido: 0.0000267029 segundos.\n",
            "Tiempo transcurrido: 0.0000374317 segundos.\n",
            "Tiempo transcurrido: 0.0000469685 segundos.\n",
            "Tiempo transcurrido: 0.0000581741 segundos.\n",
            "Tiempo transcurrido: 0.0000672340 segundos.\n",
            "Tiempo transcurrido: 0.0000741482 segundos.\n",
            "Tiempo transcurrido: 0.0000646114 segundos.\n",
            "Tiempo transcurrido: 0.0001068115 segundos.\n"
          ],
          "name": "stdout"
        }
      ]
    },
    {
      "cell_type": "code",
      "metadata": {
        "id": "lUkGa1omgtvz",
        "outputId": "3de24517-470a-4ab9-c239-2c1c2df85348",
        "colab": {
          "base_uri": "https://localhost:8080/",
          "height": 136
        }
      },
      "source": [
        "from time import time\n",
        "def ejemplo6( n ):\n",
        "    start_time = time()\n",
        "    data=[[[1 for x in range(n)] for x in range(n)]\n",
        "          for x in range(n)]\n",
        "    suma = 0\n",
        "    for d in range(n):\n",
        "        for r in range(n):\n",
        "            for c in range(n):\n",
        "                suma += data[d][r][c]\n",
        "    elapsed_time = time() - start_time\n",
        "    print(\"Tiempo transcurrido: %0.10f segundos.\" % elapsed_time)\n",
        "    return suma\n",
        "for entrada in range (100,1100,100):\n",
        "  ejemplo6( entrada )"
      ],
      "execution_count": null,
      "outputs": [
        {
          "output_type": "stream",
          "text": [
            "Tiempo transcurrido: 0.1419131756 segundos.\n",
            "Tiempo transcurrido: 1.0553052425 segundos.\n",
            "Tiempo transcurrido: 7.8812458515 segundos.\n",
            "Tiempo transcurrido: 8.7080709934 segundos.\n",
            "Tiempo transcurrido: 21.2098131180 segundos.\n",
            "Tiempo transcurrido: 39.1862931252 segundos.\n",
            "Tiempo transcurrido: 51.7157301903 segundos.\n"
          ],
          "name": "stdout"
        }
      ]
    },
    {
      "cell_type": "code",
      "metadata": {
        "id": "GDwVh4AuzHij"
      },
      "source": [
        "def ejemplo7( n ):\n",
        "    count = 0\n",
        "    for i in range( n ) :\n",
        "        for j in range( 25 ) :\n",
        "            for k in range( n ):\n",
        "                count += 1\n",
        "    return count\n",
        "    "
      ],
      "execution_count": null,
      "outputs": []
    },
    {
      "cell_type": "code",
      "metadata": {
        "id": "TNlQO5-0z2iM"
      },
      "source": [
        "def ejempo7_2 (n):\n",
        "  count = 0\n",
        "  for i range (n):\n",
        "    for j in range (25):\n",
        "      for k in range (n):\n",
        "        count += 1\n",
        "      for k in range (n):\n",
        "        count +=1\n",
        "  return count\n",
        "ejemplo7_2 (3)\n",
        "#1+50n^2\n"
      ],
      "execution_count": null,
      "outputs": []
    },
    {
      "cell_type": "code",
      "metadata": {
        "id": "xloDkj_l3kKW"
      },
      "source": [
        "def ejemplo8( numeros ): # numeros es una lista (arreglo en c)\n",
        "    total = 0\n",
        "    for index in range(len(numeros)):\n",
        "        total = numeros[index]\n",
        "    return total\n",
        "ejemplo8(numeros)"
      ],
      "execution_count": null,
      "outputs": []
    },
    {
      "cell_type": "code",
      "metadata": {
        "id": "r4vToUaw42ox"
      },
      "source": [
        "def ejemplo9(  n ):\n",
        "    contador = 0\n",
        "    basura = 0\n",
        "    for i in range( n ) :\n",
        "        contador += 1\n",
        "    for j in range( n ) :\n",
        "        contador += 1\n",
        "    basura = basura + contador\n",
        "    return contador\n",
        "print(ejemplo9( 5 ))\n"
      ],
      "execution_count": null,
      "outputs": []
    },
    {
      "cell_type": "code",
      "metadata": {
        "id": "_g2PgzG-5Aix",
        "outputId": "81c18282-a5a8-4c7a-9b97-78433ea15970",
        "colab": {
          "base_uri": "https://localhost:8080/",
          "height": 34
        }
      },
      "source": [
        "def ejemplo10( n ):\n",
        "    count = 0\n",
        "    for i in range( n ) :\n",
        "        for j in range( i+1 ) :\n",
        "            count += 1\n",
        "    return count\n",
        "print(ejemplo10(5)) \n",
        "# T(n) = 1 + (n^2+n)/ 2"
      ],
      "execution_count": 3,
      "outputs": [
        {
          "output_type": "stream",
          "text": [
            "15\n"
          ],
          "name": "stdout"
        }
      ]
    },
    {
      "cell_type": "code",
      "metadata": {
        "id": "V-8hCjhB43V5"
      },
      "source": [
        ""
      ],
      "execution_count": null,
      "outputs": []
    }
  ]
}