{
  "nbformat": 4,
  "nbformat_minor": 0,
  "metadata": {
    "colab": {
      "name": "28octubre.ipynb",
      "provenance": [],
      "authorship_tag": "ABX9TyMVjP9URDL340TB3VvO/DFr",
      "include_colab_link": true
    },
    "kernelspec": {
      "name": "python3",
      "display_name": "Python 3"
    }
  },
  "cells": [
    {
      "cell_type": "markdown",
      "metadata": {
        "id": "view-in-github",
        "colab_type": "text"
      },
      "source": [
        "<a href=\"https://colab.research.google.com/github/yairbadillo01/daa_2021_1/blob/master/28octubre.ipynb\" target=\"_parent\"><img src=\"https://colab.research.google.com/assets/colab-badge.svg\" alt=\"Open In Colab\"/></a>"
      ]
    },
    {
      "cell_type": "code",
      "metadata": {
        "id": "zcU-dbQzxSNQ"
      },
      "source": [
        "h1 = 0\n",
        "h2 = 0\n",
        "m1 = 0\n",
        "m2 = 0   # 1440 + 24 *6\n",
        "contador = 0   # 5 + (1440 + ?) * 2 + 144 + 24 + 2= 3057\n",
        "\n",
        "while [h1, h2, m1, m2] != [2,3,5,9]:\n",
        "  if [h1, h2] == [m2, m1]:\n",
        "    \n",
        "    print(h1, h2,\":\", m1, m2)    \n",
        "    m2 = m2 + 1\n",
        "\n",
        "    if m2 == 10:\n",
        "      m2 = 0\n",
        "      m1 = m1 + 1\n",
        "\n",
        "    if m1 == 6:\n",
        "      h2 = h2 + 1\n",
        "      m2 = 0\n",
        "    contador = contador + 1\n",
        "\n",
        "  m2 = m2 + 1\n",
        "  if m2 == 10:\n",
        "      m2 = 0\n",
        "      m1 = m1 + 1\n",
        "  if m1 == 6:\n",
        "    m1 = 0\n",
        "    h2 = h2 +1\n",
        "  if h2 == 10:\n",
        "    h2 = 0\n",
        "    h1 = h1 +1\n",
        "print(\"Nume\n",
        "print(\"Numero de palindromos: \",contador)"
      ],
      "execution_count": null,
      "outputs": []
    },
    {
      "cell_type": "code",
      "metadata": {
        "id": "_r-9mSkmxeW1"
      },
      "source": [
        "horario=\"0000\"\n",
        "contador=0\n",
        "while horario!=\"2359\":\n",
        "  inv=horario[::-1]\n",
        "  if horario==inv:\n",
        "    contador+=1\n",
        "    print(horario[0:2],\":\",horario[2:4])\n",
        "  new=int(horario)\n",
        "  new+=1\n",
        "  horario=str(new).zfill(4)\n",
        "print(\"son \",contador,\"palindromos\")\n",
        "# 2 + (2360  * 4 ) + 24"
      ],
      "execution_count": null,
      "outputs": []
    },
    {
      "cell_type": "code",
      "metadata": {
        "id": "rgO2C49K0DuH"
      },
      "source": [
        "lista=[]\n",
        "for i in range(0,24,1):   # 24\n",
        "  for j in range(0,60,1): # 60    1440\n",
        "    if i<10:\n",
        "      if j<10:\n",
        "        lista.append(\"0\"+str(i)+\":\"+\"0\"+str(j))\n",
        "      elif j>=10:\n",
        "        lista.append(\"0\"+str(i)+\":\"+str(j))\n",
        "    else:\n",
        "      if i>=10:\n",
        "        if j<10:\n",
        "          lista.append(str(i)+\":\"+\"0\"+str(j))\n",
        "        elif j>=10:\n",
        "          lista.append(str(i)+\":\"+str(j))\n",
        "# 1440 + 2 + 1440 + 16 * 2 = 2900\n",
        "lista2=[]\n",
        "contador=0\n",
        "for i in range(len(lista)): # 1440\n",
        "  x=lista[i][::-1]\n",
        "  if x==lista[i]:\n",
        "    lista2.append(x)\n",
        "    contador=contador+1\n",
        "print(contador)\n",
        "for j in (lista2):\n",
        "  print(j)"
      ],
      "execution_count": null,
      "outputs": []
    },
    {
      "cell_type": "code",
      "metadata": {
        "id": "1sq53uKY4i_v"
      },
      "source": [
        "for x in range (0,24,1):\n",
        "  for y in range(0,60,1): #1440 * 3 +13 = 4333\n",
        "    hora=str(x)+\":\"+str(y)\n",
        "    if x<10:\n",
        "      hora=\"0\"+str(x)+\":\"+str(y)\n",
        "    if y<10:\n",
        "      hora=str(x)+\"0\"+\":\"+str(y)\n",
        "\n",
        "    p=hora[::-1]\n",
        "    if  p==hora:\n",
        "      print(f\"{hora} es palindromo\")"
      ],
      "execution_count": null,
      "outputs": []
    },
    {
      "cell_type": "code",
      "metadata": {
        "id": "oKjW92Za5Z1K"
      },
      "source": [
        "#solucion:\n",
        "total = int(0) #Contador de numero de palindromos\n",
        "for hor in range(0,24): #Bucles anidados for para dar aumentar las horas y los minutos al mismo tiempo\n",
        "  for min in range(0,60): \n",
        "\n",
        "    hor_n = str(hor) #Variables\n",
        "    min_n = str(min)\n",
        "\n",
        "    if (hor<10): #USamos condiciones para que las horas y los minutos no rebasen el horario\n",
        "      hor_n = (\"0\"+hor_n)\n",
        "\n",
        "    if (min<10):\n",
        "      min_n = (\"0\"+ min_n)\n",
        "\n",
        "    if (hor_n[::-1] == min_n): #Mediante un slicing le damos el formato a las horas para que este empiece desde la derecha\n",
        "      print(\"{}:{}\".format(hor_n,min_n))\n",
        "      total += 1\n",
        "#1  + 1440 * 5 =7201"
      ],
      "execution_count": null,
      "outputs": []
    },
    {
      "cell_type": "code",
      "metadata": {
        "id": "YzOiJZZQ6Kau"
      },
      "source": [
        "palindronum= int(0)\n",
        "for hor in range(0,24):\n",
        "  for min in range(0,60): # 1440\n",
        "    principio= str(hor)\n",
        "    final= str(min)\n",
        "    if (hor<10):\n",
        "      principio=(\"0\"+principio)\n",
        "    if (min<10):\n",
        "      final=(\"0\"+final)\n",
        "    if (principio[::-1]==final):\n",
        "      print(principio +\":\"+final)\n",
        "      palindronum= palindronum+1\n",
        "print(palindronum)\n",
        "# 1 + 1440 * 5 = 7201"
      ],
      "execution_count": null,
      "outputs": []
    }
  ]
}