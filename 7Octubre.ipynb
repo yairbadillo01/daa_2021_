{
  "nbformat": 4,
  "nbformat_minor": 0,
  "metadata": {
    "colab": {
      "name": "7Octubre.ipynb",
      "provenance": [],
      "authorship_tag": "ABX9TyOgONOU6RGrpq+cEVpjqfaN",
      "include_colab_link": true
    },
    "kernelspec": {
      "name": "python3",
      "display_name": "Python 3"
    }
  },
  "cells": [
    {
      "cell_type": "markdown",
      "metadata": {
        "id": "view-in-github",
        "colab_type": "text"
      },
      "source": [
        "<a href=\"https://colab.research.google.com/github/yairbadillo01/daa_2021_1/blob/master/7Octubre.ipynb\" target=\"_parent\"><img src=\"https://colab.research.google.com/assets/colab-badge.svg\" alt=\"Open In Colab\"/></a>"
      ]
    },
    {
      "cell_type": "markdown",
      "metadata": {
        "id": "bMbCHoHLSztB"
      },
      "source": [
        "#Busqueda Lineal\n",
        "\n",
        "Dada un conjunto de datos no ordenados, la busqueda lineal consiste en recorrer el conjunto de datos dsde el inicio hasta el final, moviendose de uno en uno hasta encontrar elelemento o llegar al final de un conjunto.\n",
        "\n",
        "datos = [ 4,18,47,2,34,14,78,12,48,21,31,19,1,3,5]\n",
        "\n",
        "\n",
        "#Busqueda Binaria\n",
        "Funciona sobre un conjunto de datos lineal ordenado.\n",
        "Consiste en dividir el conjunto en mitades y buscar en esa mitad, preguntar si el elemento esta a la derecha o a la izquierda.\n",
        "Haces la lista igual a la mitad correspondiente y repites el proceso\n",
        "\n",
        "L = [1, 2, 3, 4, 5, 12, 14, 18, 19, 21, 31, 34, 47, 48, 78]\n",
        "DER = longitud (L)-1\n",
        "\n",
        "IZQ = 0\n",
        "\n",
        "MID = 0\n",
        "\n",
        "buscado = Valor a buscar (47)\n",
        "\n",
        "\n",
        "1.  Hacer DER = longitud (L)-1\n",
        "2.  HAcer IZQ = 0\n",
        "3.  Se IZQ > DER significa que hay un error en los datos \n",
        "4.  Calcular MID  = int ((IZQ + DER)/2)  \n",
        "5.  Mientras L en la posicion [MID] !=buscado hacer\n",
        "6.    - Preguntar si L [MID] > buscado\n",
        "        - Hacer DER = mid \n",
        "      - de lo contrario \n",
        "        - Hacer IZQ  \n",
        "      - Preguntar (DER - IZQ) %2\n",
        "        - MID = (IZQ + ((DER-IZQ )/2)+1\n",
        "      - De lo contrario\n",
        "        - MID = IZQ +((DER-IZQ)/2)\n",
        "7. Return  \n",
        "\n",
        "\n",
        "\n"
      ]
    },
    {
      "cell_type": "code",
      "metadata": {
        "id": "_KnqAeMjTqUK",
        "outputId": "0078e516-1201-4123-8b2c-db13658d27cc",
        "colab": {
          "base_uri": "https://localhost:8080/",
          "height": 510
        }
      },
      "source": [
        "\"\"\"\n",
        "Busquedad lineal \n",
        "Regresa la posicion del elemento 'buscado' si se encuentra  dentro de la lista.\n",
        "regresa -1 si el elemento buscado no existe dentro de la linea.\n",
        "\"\"\"\n",
        "def busq_lineal (L, buscado):\n",
        "      indice =-1\n",
        "      contador = 0\n",
        "      for idx in range (len(L)):\n",
        "        contador +=1\n",
        "        if L [idx]== buscado :\n",
        "          indice= idx\n",
        "          break\n",
        "      print (f\"Numero de comparaciones realizadas: {contador}\")\n",
        "      return indice\n",
        "      \n",
        "\"\"\"\n",
        "Busqueda Binaria \n",
        "\"\"\" \n",
        "def busqueda_binaria (L,buscado):\n",
        "  IZQ = 0\n",
        "  DER = len(L)-1\n",
        "  MID = int((IZQ + DER )/2)\n",
        "  if len(L) % 2 == 0:\n",
        "    MID = (DER // 2)+1\n",
        "  else: \n",
        "    MID = DER  //2\n",
        "  while (L[MID] != buscado) :\n",
        "    if L[MID] > buscado:  \n",
        "      DER = MID \n",
        "    else: \n",
        "      IZQ = MID \n",
        "    if (DER - IZQ) % 2 == 0:\n",
        "      MID = (IZQ+((DER-IZQ)//2))+1\n",
        "    else:\n",
        "      MID = IZQ + ((DER-IZQ)//2)\n",
        "  return MID\n",
        "\n",
        "def main ():\n",
        "     datos = [ 4,18,47,2,34,14,78,12,48,21,31,19,1,3,5]\n",
        "     dato = int (input(\"Que valor quieres buscar: \"))\n",
        "     resultado =  busq_lineal (datos,dato)\n",
        "     print (\"Resultado: \", resultado)\n",
        "     print (\"Busqueda lineal en un arreglo en una lista ordenada\")\n",
        "     datos.sort()\n",
        "     print(datos)\n",
        "     resultado=  busq_lineal(datos,dato)\n",
        "     print (\"Resultado:\", resultado)\n",
        "\n",
        "\n",
        "     print (\"Busqueda Binaria\")\n",
        "     posicion = busqueda_binaria ( datos, dato)\n",
        "     print(f\"El elemento {dato} esta en la posicion {posicion} de la lista \")\n",
        "\n",
        "main ()\n",
        "    \n",
        "\n",
        "\n",
        "  \n"
      ],
      "execution_count": 14,
      "outputs": [
        {
          "output_type": "stream",
          "text": [
            "Que valor quieres buscar: 21\n",
            "Numero de comparaciones realizadas: 10\n",
            "Resultado:  9\n",
            "Busqueda lineal en un arreglo en una lista ordenada\n",
            "[1, 2, 3, 4, 5, 12, 14, 18, 19, 21, 31, 34, 47, 48, 78]\n",
            "Numero de comparaciones realizadas: 10\n",
            "Resultado: 9\n",
            "Busqueda Binaria\n"
          ],
          "name": "stdout"
        },
        {
          "output_type": "error",
          "ename": "KeyboardInterrupt",
          "evalue": "ignored",
          "traceback": [
            "\u001b[0;31m---------------------------------------------------------------------------\u001b[0m",
            "\u001b[0;31mKeyboardInterrupt\u001b[0m                         Traceback (most recent call last)",
            "\u001b[0;32m<ipython-input-14-b7b38267db84>\u001b[0m in \u001b[0;36m<module>\u001b[0;34m()\u001b[0m\n\u001b[1;32m     53\u001b[0m      \u001b[0mprint\u001b[0m\u001b[0;34m(\u001b[0m\u001b[0;34mf\"El elemento {dato} esta en la posicion {posicion} de la lista \"\u001b[0m\u001b[0;34m)\u001b[0m\u001b[0;34m\u001b[0m\u001b[0;34m\u001b[0m\u001b[0m\n\u001b[1;32m     54\u001b[0m \u001b[0;34m\u001b[0m\u001b[0m\n\u001b[0;32m---> 55\u001b[0;31m \u001b[0mmain\u001b[0m \u001b[0;34m(\u001b[0m\u001b[0;34m)\u001b[0m\u001b[0;34m\u001b[0m\u001b[0;34m\u001b[0m\u001b[0m\n\u001b[0m\u001b[1;32m     56\u001b[0m \u001b[0;34m\u001b[0m\u001b[0m\n\u001b[1;32m     57\u001b[0m \u001b[0;34m\u001b[0m\u001b[0m\n",
            "\u001b[0;32m<ipython-input-14-b7b38267db84>\u001b[0m in \u001b[0;36mmain\u001b[0;34m()\u001b[0m\n\u001b[1;32m     50\u001b[0m \u001b[0;34m\u001b[0m\u001b[0m\n\u001b[1;32m     51\u001b[0m      \u001b[0mprint\u001b[0m \u001b[0;34m(\u001b[0m\u001b[0;34m\"Busqueda Binaria\"\u001b[0m\u001b[0;34m)\u001b[0m\u001b[0;34m\u001b[0m\u001b[0;34m\u001b[0m\u001b[0m\n\u001b[0;32m---> 52\u001b[0;31m      \u001b[0mposicion\u001b[0m \u001b[0;34m=\u001b[0m \u001b[0mbusqueda_binaria\u001b[0m \u001b[0;34m(\u001b[0m \u001b[0mdatos\u001b[0m\u001b[0;34m,\u001b[0m \u001b[0mdato\u001b[0m\u001b[0;34m)\u001b[0m\u001b[0;34m\u001b[0m\u001b[0;34m\u001b[0m\u001b[0m\n\u001b[0m\u001b[1;32m     53\u001b[0m      \u001b[0mprint\u001b[0m\u001b[0;34m(\u001b[0m\u001b[0;34mf\"El elemento {dato} esta en la posicion {posicion} de la lista \"\u001b[0m\u001b[0;34m)\u001b[0m\u001b[0;34m\u001b[0m\u001b[0;34m\u001b[0m\u001b[0m\n\u001b[1;32m     54\u001b[0m \u001b[0;34m\u001b[0m\u001b[0m\n",
            "\u001b[0;32m<ipython-input-14-b7b38267db84>\u001b[0m in \u001b[0;36mbusqueda_binaria\u001b[0;34m(L, buscado)\u001b[0m\n\u001b[1;32m     31\u001b[0m     \u001b[0;32melse\u001b[0m\u001b[0;34m:\u001b[0m\u001b[0;34m\u001b[0m\u001b[0;34m\u001b[0m\u001b[0m\n\u001b[1;32m     32\u001b[0m       \u001b[0mIZQ\u001b[0m \u001b[0;34m=\u001b[0m \u001b[0mMID\u001b[0m\u001b[0;34m\u001b[0m\u001b[0;34m\u001b[0m\u001b[0m\n\u001b[0;32m---> 33\u001b[0;31m     \u001b[0;32mif\u001b[0m \u001b[0;34m(\u001b[0m\u001b[0mDER\u001b[0m \u001b[0;34m-\u001b[0m \u001b[0mIZQ\u001b[0m\u001b[0;34m)\u001b[0m \u001b[0;34m%\u001b[0m \u001b[0;36m2\u001b[0m \u001b[0;34m==\u001b[0m \u001b[0;36m0\u001b[0m\u001b[0;34m:\u001b[0m\u001b[0;34m\u001b[0m\u001b[0;34m\u001b[0m\u001b[0m\n\u001b[0m\u001b[1;32m     34\u001b[0m       \u001b[0mMID\u001b[0m \u001b[0;34m=\u001b[0m \u001b[0;34m(\u001b[0m\u001b[0mIZQ\u001b[0m\u001b[0;34m+\u001b[0m\u001b[0;34m(\u001b[0m\u001b[0;34m(\u001b[0m\u001b[0mDER\u001b[0m\u001b[0;34m-\u001b[0m\u001b[0mIZQ\u001b[0m\u001b[0;34m)\u001b[0m\u001b[0;34m//\u001b[0m\u001b[0;36m2\u001b[0m\u001b[0;34m)\u001b[0m\u001b[0;34m)\u001b[0m\u001b[0;34m+\u001b[0m\u001b[0;36m1\u001b[0m\u001b[0;34m\u001b[0m\u001b[0;34m\u001b[0m\u001b[0m\n\u001b[1;32m     35\u001b[0m     \u001b[0;32melse\u001b[0m\u001b[0;34m:\u001b[0m\u001b[0;34m\u001b[0m\u001b[0;34m\u001b[0m\u001b[0m\n",
            "\u001b[0;31mKeyboardInterrupt\u001b[0m: "
          ]
        }
      ]
    },
    {
      "cell_type": "code",
      "metadata": {
        "id": "vel0k1TiSfZa"
      },
      "source": [
        ""
      ],
      "execution_count": null,
      "outputs": []
    }
  ]
}