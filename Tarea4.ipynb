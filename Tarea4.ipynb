{
  "nbformat": 4,
  "nbformat_minor": 0,
  "metadata": {
    "colab": {
      "name": "Tarea4.ipynb",
      "provenance": [],
      "authorship_tag": "ABX9TyOAVJo8W6tnAZi1s4xouPmy",
      "include_colab_link": true
    },
    "kernelspec": {
      "name": "python3",
      "display_name": "Python 3"
    }
  },
  "cells": [
    {
      "cell_type": "markdown",
      "metadata": {
        "id": "view-in-github",
        "colab_type": "text"
      },
      "source": [
        "<a href=\"https://colab.research.google.com/github/yairbadillo01/daa_2021_1/blob/master/Tarea4.ipynb\" target=\"_parent\"><img src=\"https://colab.research.google.com/assets/colab-badge.svg\" alt=\"Open In Colab\"/></a>"
      ]
    },
    {
      "cell_type": "markdown",
      "metadata": {
        "id": "W31vr6uwOq8m"
      },
      "source": [
        "#Funcion: 3+Log ( n )"
      ]
    },
    {
      "cell_type": "code",
      "metadata": {
        "id": "ietflcK8MFkf"
      },
      "source": [
        "def ejemplo4( n ):\n",
        "    count = 0\n",
        "    i = n\n",
        "    print (\"Nivel 1\")\n",
        "    while i >= 1:\n",
        "        count += 1\n",
        "        i = i // 2\n",
        "        print (\"Nivel 2\")\n",
        "    basura = 3 + 2\n",
        "    \n",
        "    return count"
      ],
      "execution_count": 5,
      "outputs": []
    }
  ]
}